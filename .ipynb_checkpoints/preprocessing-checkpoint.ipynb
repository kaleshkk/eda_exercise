{
 "cells": [
  {
   "cell_type": "markdown",
   "metadata": {},
   "source": [
    "## EDA and Preprocessing"
   ]
  },
  {
   "cell_type": "code",
   "execution_count": 1,
   "metadata": {},
   "outputs": [],
   "source": [
    "import pandas as pd\n",
    "import numpy as np\n",
    "import matplotlib.pyplot as plt\n",
    "import seaborn as sns\n",
    "import missingno as msno\n",
    "%matplotlib inline\n",
    "\n",
    "import warnings\n",
    "warnings.filterwarnings('ignore')"
   ]
  },
  {
   "cell_type": "markdown",
   "metadata": {},
   "source": [
    "### Read CSV"
   ]
  },
  {
   "cell_type": "code",
   "execution_count": 2,
   "metadata": {},
   "outputs": [],
   "source": [
    "loan_df = pd.read_csv('./Datasets/Loan_data.csv')"
   ]
  },
  {
   "cell_type": "code",
   "execution_count": 3,
   "metadata": {},
   "outputs": [
    {
     "data": {
      "text/plain": [
       "(1000, 29)"
      ]
     },
     "execution_count": 3,
     "metadata": {},
     "output_type": "execute_result"
    }
   ],
   "source": [
    "loan_df.shape"
   ]
  },
  {
   "cell_type": "code",
   "execution_count": 4,
   "metadata": {},
   "outputs": [
    {
     "data": {
      "text/plain": [
       "Index(['OBS.', 'CHK_ACCT', 'DURATION', 'HISTORY', 'CAR', 'FURNITURE',\n",
       "       'RADIO.TV', 'EDUCATION', 'RETRAINING', 'AMOUNT', 'SAV_ACCT',\n",
       "       'EMPLOYMENT', 'INSTALL_RATE', 'MaritalStatus', 'CO.APPLICANT',\n",
       "       'GUARANTOR', 'PRESENT_RESIDENT', 'REAL_ESTATE', 'PROP_UNKN_NONE', 'AGE',\n",
       "       'OTHER_INSTALL', 'RENT', 'OWN_RES', 'NUM_CREDITS', 'JOB',\n",
       "       'NUM_DEPENDENTS', 'TELEPHONE', 'FOREIGN', 'DEFAULT'],\n",
       "      dtype='object')"
      ]
     },
     "execution_count": 4,
     "metadata": {},
     "output_type": "execute_result"
    }
   ],
   "source": [
    "loan_df.columns"
   ]
  },
  {
   "cell_type": "code",
   "execution_count": 5,
   "metadata": {},
   "outputs": [
    {
     "data": {
      "text/html": [
       "<div>\n",
       "<style scoped>\n",
       "    .dataframe tbody tr th:only-of-type {\n",
       "        vertical-align: middle;\n",
       "    }\n",
       "\n",
       "    .dataframe tbody tr th {\n",
       "        vertical-align: top;\n",
       "    }\n",
       "\n",
       "    .dataframe thead th {\n",
       "        text-align: right;\n",
       "    }\n",
       "</style>\n",
       "<table border=\"1\" class=\"dataframe\">\n",
       "  <thead>\n",
       "    <tr style=\"text-align: right;\">\n",
       "      <th></th>\n",
       "      <th>OBS.</th>\n",
       "      <th>CHK_ACCT</th>\n",
       "      <th>DURATION</th>\n",
       "      <th>HISTORY</th>\n",
       "      <th>CAR</th>\n",
       "      <th>FURNITURE</th>\n",
       "      <th>RADIO.TV</th>\n",
       "      <th>EDUCATION</th>\n",
       "      <th>RETRAINING</th>\n",
       "      <th>AMOUNT</th>\n",
       "      <th>...</th>\n",
       "      <th>AGE</th>\n",
       "      <th>OTHER_INSTALL</th>\n",
       "      <th>RENT</th>\n",
       "      <th>OWN_RES</th>\n",
       "      <th>NUM_CREDITS</th>\n",
       "      <th>JOB</th>\n",
       "      <th>NUM_DEPENDENTS</th>\n",
       "      <th>TELEPHONE</th>\n",
       "      <th>FOREIGN</th>\n",
       "      <th>DEFAULT</th>\n",
       "    </tr>\n",
       "  </thead>\n",
       "  <tbody>\n",
       "    <tr>\n",
       "      <th>0</th>\n",
       "      <td>1</td>\n",
       "      <td>0</td>\n",
       "      <td>6.0</td>\n",
       "      <td>4</td>\n",
       "      <td>UsedCar</td>\n",
       "      <td>0</td>\n",
       "      <td>1</td>\n",
       "      <td>0</td>\n",
       "      <td>0</td>\n",
       "      <td>1169.0</td>\n",
       "      <td>...</td>\n",
       "      <td>67.0</td>\n",
       "      <td>0</td>\n",
       "      <td>0</td>\n",
       "      <td>1</td>\n",
       "      <td>2</td>\n",
       "      <td>2</td>\n",
       "      <td>1</td>\n",
       "      <td>1</td>\n",
       "      <td>0</td>\n",
       "      <td>1</td>\n",
       "    </tr>\n",
       "    <tr>\n",
       "      <th>1</th>\n",
       "      <td>2</td>\n",
       "      <td>1</td>\n",
       "      <td>48.0</td>\n",
       "      <td>2</td>\n",
       "      <td>UsedCar</td>\n",
       "      <td>0</td>\n",
       "      <td>1</td>\n",
       "      <td>0</td>\n",
       "      <td>0</td>\n",
       "      <td>5951.0</td>\n",
       "      <td>...</td>\n",
       "      <td>22.0</td>\n",
       "      <td>0</td>\n",
       "      <td>0</td>\n",
       "      <td>1</td>\n",
       "      <td>1</td>\n",
       "      <td>2</td>\n",
       "      <td>1</td>\n",
       "      <td>0</td>\n",
       "      <td>0</td>\n",
       "      <td>0</td>\n",
       "    </tr>\n",
       "    <tr>\n",
       "      <th>2</th>\n",
       "      <td>3</td>\n",
       "      <td>3</td>\n",
       "      <td>12.0</td>\n",
       "      <td>4</td>\n",
       "      <td>UsedCar</td>\n",
       "      <td>0</td>\n",
       "      <td>0</td>\n",
       "      <td>1</td>\n",
       "      <td>0</td>\n",
       "      <td>2096.0</td>\n",
       "      <td>...</td>\n",
       "      <td>49.0</td>\n",
       "      <td>0</td>\n",
       "      <td>0</td>\n",
       "      <td>1</td>\n",
       "      <td>1</td>\n",
       "      <td>1</td>\n",
       "      <td>2</td>\n",
       "      <td>0</td>\n",
       "      <td>0</td>\n",
       "      <td>1</td>\n",
       "    </tr>\n",
       "    <tr>\n",
       "      <th>3</th>\n",
       "      <td>4</td>\n",
       "      <td>0</td>\n",
       "      <td>42.0</td>\n",
       "      <td>2</td>\n",
       "      <td>UsedCar</td>\n",
       "      <td>1</td>\n",
       "      <td>0</td>\n",
       "      <td>0</td>\n",
       "      <td>0</td>\n",
       "      <td>7882.0</td>\n",
       "      <td>...</td>\n",
       "      <td>45.0</td>\n",
       "      <td>0</td>\n",
       "      <td>0</td>\n",
       "      <td>0</td>\n",
       "      <td>1</td>\n",
       "      <td>2</td>\n",
       "      <td>2</td>\n",
       "      <td>0</td>\n",
       "      <td>0</td>\n",
       "      <td>1</td>\n",
       "    </tr>\n",
       "    <tr>\n",
       "      <th>4</th>\n",
       "      <td>5</td>\n",
       "      <td>0</td>\n",
       "      <td>24.0</td>\n",
       "      <td>3</td>\n",
       "      <td>NewCar</td>\n",
       "      <td>0</td>\n",
       "      <td>0</td>\n",
       "      <td>0</td>\n",
       "      <td>0</td>\n",
       "      <td>4870.0</td>\n",
       "      <td>...</td>\n",
       "      <td>53.0</td>\n",
       "      <td>0</td>\n",
       "      <td>0</td>\n",
       "      <td>0</td>\n",
       "      <td>2</td>\n",
       "      <td>2</td>\n",
       "      <td>2</td>\n",
       "      <td>0</td>\n",
       "      <td>0</td>\n",
       "      <td>0</td>\n",
       "    </tr>\n",
       "  </tbody>\n",
       "</table>\n",
       "<p>5 rows × 29 columns</p>\n",
       "</div>"
      ],
      "text/plain": [
       "   OBS.  CHK_ACCT  DURATION  HISTORY      CAR  FURNITURE  RADIO.TV  EDUCATION  \\\n",
       "0     1         0       6.0        4  UsedCar          0         1          0   \n",
       "1     2         1      48.0        2  UsedCar          0         1          0   \n",
       "2     3         3      12.0        4  UsedCar          0         0          1   \n",
       "3     4         0      42.0        2  UsedCar          1         0          0   \n",
       "4     5         0      24.0        3   NewCar          0         0          0   \n",
       "\n",
       "   RETRAINING  AMOUNT  ...   AGE  OTHER_INSTALL  RENT OWN_RES  NUM_CREDITS  \\\n",
       "0           0  1169.0  ...  67.0              0     0       1            2   \n",
       "1           0  5951.0  ...  22.0              0     0       1            1   \n",
       "2           0  2096.0  ...  49.0              0     0       1            1   \n",
       "3           0  7882.0  ...  45.0              0     0       0            1   \n",
       "4           0  4870.0  ...  53.0              0     0       0            2   \n",
       "\n",
       "   JOB  NUM_DEPENDENTS  TELEPHONE  FOREIGN  DEFAULT  \n",
       "0    2               1          1        0        1  \n",
       "1    2               1          0        0        0  \n",
       "2    1               2          0        0        1  \n",
       "3    2               2          0        0        1  \n",
       "4    2               2          0        0        0  \n",
       "\n",
       "[5 rows x 29 columns]"
      ]
     },
     "execution_count": 5,
     "metadata": {},
     "output_type": "execute_result"
    }
   ],
   "source": [
    "loan_df.head(5)"
   ]
  },
  {
   "cell_type": "code",
   "execution_count": 6,
   "metadata": {},
   "outputs": [
    {
     "data": {
      "text/html": [
       "<div>\n",
       "<style scoped>\n",
       "    .dataframe tbody tr th:only-of-type {\n",
       "        vertical-align: middle;\n",
       "    }\n",
       "\n",
       "    .dataframe tbody tr th {\n",
       "        vertical-align: top;\n",
       "    }\n",
       "\n",
       "    .dataframe thead th {\n",
       "        text-align: right;\n",
       "    }\n",
       "</style>\n",
       "<table border=\"1\" class=\"dataframe\">\n",
       "  <thead>\n",
       "    <tr style=\"text-align: right;\">\n",
       "      <th></th>\n",
       "      <th>OBS.</th>\n",
       "      <th>CHK_ACCT</th>\n",
       "      <th>DURATION</th>\n",
       "      <th>HISTORY</th>\n",
       "      <th>FURNITURE</th>\n",
       "      <th>RADIO.TV</th>\n",
       "      <th>EDUCATION</th>\n",
       "      <th>RETRAINING</th>\n",
       "      <th>AMOUNT</th>\n",
       "      <th>SAV_ACCT</th>\n",
       "      <th>...</th>\n",
       "      <th>AGE</th>\n",
       "      <th>OTHER_INSTALL</th>\n",
       "      <th>RENT</th>\n",
       "      <th>OWN_RES</th>\n",
       "      <th>NUM_CREDITS</th>\n",
       "      <th>JOB</th>\n",
       "      <th>NUM_DEPENDENTS</th>\n",
       "      <th>TELEPHONE</th>\n",
       "      <th>FOREIGN</th>\n",
       "      <th>DEFAULT</th>\n",
       "    </tr>\n",
       "  </thead>\n",
       "  <tbody>\n",
       "    <tr>\n",
       "      <th>count</th>\n",
       "      <td>1000.000000</td>\n",
       "      <td>1000.000000</td>\n",
       "      <td>997.000000</td>\n",
       "      <td>1000.00000</td>\n",
       "      <td>1000.000000</td>\n",
       "      <td>1000.000000</td>\n",
       "      <td>1000.000000</td>\n",
       "      <td>1000.000000</td>\n",
       "      <td>996.000000</td>\n",
       "      <td>1000.000000</td>\n",
       "      <td>...</td>\n",
       "      <td>998.000000</td>\n",
       "      <td>1000.000000</td>\n",
       "      <td>1000.000000</td>\n",
       "      <td>1000.000000</td>\n",
       "      <td>1000.000000</td>\n",
       "      <td>1000.000000</td>\n",
       "      <td>1000.000000</td>\n",
       "      <td>1000.000000</td>\n",
       "      <td>1000.000000</td>\n",
       "      <td>1000.000000</td>\n",
       "    </tr>\n",
       "    <tr>\n",
       "      <th>mean</th>\n",
       "      <td>500.500000</td>\n",
       "      <td>1.577000</td>\n",
       "      <td>20.893681</td>\n",
       "      <td>2.54500</td>\n",
       "      <td>0.181000</td>\n",
       "      <td>0.280000</td>\n",
       "      <td>0.050000</td>\n",
       "      <td>0.097000</td>\n",
       "      <td>3279.088353</td>\n",
       "      <td>1.105000</td>\n",
       "      <td>...</td>\n",
       "      <td>35.523046</td>\n",
       "      <td>0.186000</td>\n",
       "      <td>0.179000</td>\n",
       "      <td>0.713000</td>\n",
       "      <td>1.407000</td>\n",
       "      <td>1.904000</td>\n",
       "      <td>1.155000</td>\n",
       "      <td>0.404000</td>\n",
       "      <td>0.037000</td>\n",
       "      <td>0.700000</td>\n",
       "    </tr>\n",
       "    <tr>\n",
       "      <th>std</th>\n",
       "      <td>288.819436</td>\n",
       "      <td>1.257638</td>\n",
       "      <td>12.063783</td>\n",
       "      <td>1.08312</td>\n",
       "      <td>0.385211</td>\n",
       "      <td>0.449224</td>\n",
       "      <td>0.218054</td>\n",
       "      <td>0.296106</td>\n",
       "      <td>2825.671422</td>\n",
       "      <td>1.580023</td>\n",
       "      <td>...</td>\n",
       "      <td>11.343412</td>\n",
       "      <td>0.389301</td>\n",
       "      <td>0.383544</td>\n",
       "      <td>0.452588</td>\n",
       "      <td>0.577654</td>\n",
       "      <td>0.653614</td>\n",
       "      <td>0.362086</td>\n",
       "      <td>0.490943</td>\n",
       "      <td>0.188856</td>\n",
       "      <td>0.458487</td>\n",
       "    </tr>\n",
       "    <tr>\n",
       "      <th>min</th>\n",
       "      <td>1.000000</td>\n",
       "      <td>0.000000</td>\n",
       "      <td>4.000000</td>\n",
       "      <td>0.00000</td>\n",
       "      <td>0.000000</td>\n",
       "      <td>0.000000</td>\n",
       "      <td>0.000000</td>\n",
       "      <td>0.000000</td>\n",
       "      <td>250.000000</td>\n",
       "      <td>0.000000</td>\n",
       "      <td>...</td>\n",
       "      <td>19.000000</td>\n",
       "      <td>0.000000</td>\n",
       "      <td>0.000000</td>\n",
       "      <td>0.000000</td>\n",
       "      <td>1.000000</td>\n",
       "      <td>0.000000</td>\n",
       "      <td>1.000000</td>\n",
       "      <td>0.000000</td>\n",
       "      <td>0.000000</td>\n",
       "      <td>0.000000</td>\n",
       "    </tr>\n",
       "    <tr>\n",
       "      <th>25%</th>\n",
       "      <td>250.750000</td>\n",
       "      <td>0.000000</td>\n",
       "      <td>12.000000</td>\n",
       "      <td>2.00000</td>\n",
       "      <td>0.000000</td>\n",
       "      <td>0.000000</td>\n",
       "      <td>0.000000</td>\n",
       "      <td>0.000000</td>\n",
       "      <td>1369.750000</td>\n",
       "      <td>0.000000</td>\n",
       "      <td>...</td>\n",
       "      <td>27.000000</td>\n",
       "      <td>0.000000</td>\n",
       "      <td>0.000000</td>\n",
       "      <td>0.000000</td>\n",
       "      <td>1.000000</td>\n",
       "      <td>2.000000</td>\n",
       "      <td>1.000000</td>\n",
       "      <td>0.000000</td>\n",
       "      <td>0.000000</td>\n",
       "      <td>0.000000</td>\n",
       "    </tr>\n",
       "    <tr>\n",
       "      <th>50%</th>\n",
       "      <td>500.500000</td>\n",
       "      <td>1.000000</td>\n",
       "      <td>18.000000</td>\n",
       "      <td>2.00000</td>\n",
       "      <td>0.000000</td>\n",
       "      <td>0.000000</td>\n",
       "      <td>0.000000</td>\n",
       "      <td>0.000000</td>\n",
       "      <td>2324.000000</td>\n",
       "      <td>0.000000</td>\n",
       "      <td>...</td>\n",
       "      <td>33.000000</td>\n",
       "      <td>0.000000</td>\n",
       "      <td>0.000000</td>\n",
       "      <td>1.000000</td>\n",
       "      <td>1.000000</td>\n",
       "      <td>2.000000</td>\n",
       "      <td>1.000000</td>\n",
       "      <td>0.000000</td>\n",
       "      <td>0.000000</td>\n",
       "      <td>1.000000</td>\n",
       "    </tr>\n",
       "    <tr>\n",
       "      <th>75%</th>\n",
       "      <td>750.250000</td>\n",
       "      <td>3.000000</td>\n",
       "      <td>24.000000</td>\n",
       "      <td>4.00000</td>\n",
       "      <td>0.000000</td>\n",
       "      <td>1.000000</td>\n",
       "      <td>0.000000</td>\n",
       "      <td>0.000000</td>\n",
       "      <td>3973.750000</td>\n",
       "      <td>2.000000</td>\n",
       "      <td>...</td>\n",
       "      <td>42.000000</td>\n",
       "      <td>0.000000</td>\n",
       "      <td>0.000000</td>\n",
       "      <td>1.000000</td>\n",
       "      <td>2.000000</td>\n",
       "      <td>2.000000</td>\n",
       "      <td>1.000000</td>\n",
       "      <td>1.000000</td>\n",
       "      <td>0.000000</td>\n",
       "      <td>1.000000</td>\n",
       "    </tr>\n",
       "    <tr>\n",
       "      <th>max</th>\n",
       "      <td>1000.000000</td>\n",
       "      <td>3.000000</td>\n",
       "      <td>72.000000</td>\n",
       "      <td>4.00000</td>\n",
       "      <td>1.000000</td>\n",
       "      <td>1.000000</td>\n",
       "      <td>1.000000</td>\n",
       "      <td>1.000000</td>\n",
       "      <td>18424.000000</td>\n",
       "      <td>4.000000</td>\n",
       "      <td>...</td>\n",
       "      <td>75.000000</td>\n",
       "      <td>1.000000</td>\n",
       "      <td>1.000000</td>\n",
       "      <td>1.000000</td>\n",
       "      <td>4.000000</td>\n",
       "      <td>3.000000</td>\n",
       "      <td>2.000000</td>\n",
       "      <td>1.000000</td>\n",
       "      <td>1.000000</td>\n",
       "      <td>1.000000</td>\n",
       "    </tr>\n",
       "  </tbody>\n",
       "</table>\n",
       "<p>8 rows × 27 columns</p>\n",
       "</div>"
      ],
      "text/plain": [
       "              OBS.     CHK_ACCT    DURATION     HISTORY    FURNITURE  \\\n",
       "count  1000.000000  1000.000000  997.000000  1000.00000  1000.000000   \n",
       "mean    500.500000     1.577000   20.893681     2.54500     0.181000   \n",
       "std     288.819436     1.257638   12.063783     1.08312     0.385211   \n",
       "min       1.000000     0.000000    4.000000     0.00000     0.000000   \n",
       "25%     250.750000     0.000000   12.000000     2.00000     0.000000   \n",
       "50%     500.500000     1.000000   18.000000     2.00000     0.000000   \n",
       "75%     750.250000     3.000000   24.000000     4.00000     0.000000   \n",
       "max    1000.000000     3.000000   72.000000     4.00000     1.000000   \n",
       "\n",
       "          RADIO.TV    EDUCATION   RETRAINING        AMOUNT     SAV_ACCT  ...  \\\n",
       "count  1000.000000  1000.000000  1000.000000    996.000000  1000.000000  ...   \n",
       "mean      0.280000     0.050000     0.097000   3279.088353     1.105000  ...   \n",
       "std       0.449224     0.218054     0.296106   2825.671422     1.580023  ...   \n",
       "min       0.000000     0.000000     0.000000    250.000000     0.000000  ...   \n",
       "25%       0.000000     0.000000     0.000000   1369.750000     0.000000  ...   \n",
       "50%       0.000000     0.000000     0.000000   2324.000000     0.000000  ...   \n",
       "75%       1.000000     0.000000     0.000000   3973.750000     2.000000  ...   \n",
       "max       1.000000     1.000000     1.000000  18424.000000     4.000000  ...   \n",
       "\n",
       "              AGE  OTHER_INSTALL         RENT      OWN_RES  NUM_CREDITS  \\\n",
       "count  998.000000    1000.000000  1000.000000  1000.000000  1000.000000   \n",
       "mean    35.523046       0.186000     0.179000     0.713000     1.407000   \n",
       "std     11.343412       0.389301     0.383544     0.452588     0.577654   \n",
       "min     19.000000       0.000000     0.000000     0.000000     1.000000   \n",
       "25%     27.000000       0.000000     0.000000     0.000000     1.000000   \n",
       "50%     33.000000       0.000000     0.000000     1.000000     1.000000   \n",
       "75%     42.000000       0.000000     0.000000     1.000000     2.000000   \n",
       "max     75.000000       1.000000     1.000000     1.000000     4.000000   \n",
       "\n",
       "               JOB  NUM_DEPENDENTS    TELEPHONE      FOREIGN      DEFAULT  \n",
       "count  1000.000000     1000.000000  1000.000000  1000.000000  1000.000000  \n",
       "mean      1.904000        1.155000     0.404000     0.037000     0.700000  \n",
       "std       0.653614        0.362086     0.490943     0.188856     0.458487  \n",
       "min       0.000000        1.000000     0.000000     0.000000     0.000000  \n",
       "25%       2.000000        1.000000     0.000000     0.000000     0.000000  \n",
       "50%       2.000000        1.000000     0.000000     0.000000     1.000000  \n",
       "75%       2.000000        1.000000     1.000000     0.000000     1.000000  \n",
       "max       3.000000        2.000000     1.000000     1.000000     1.000000  \n",
       "\n",
       "[8 rows x 27 columns]"
      ]
     },
     "execution_count": 6,
     "metadata": {},
     "output_type": "execute_result"
    }
   ],
   "source": [
    "loan_df.describe()"
   ]
  },
  {
   "cell_type": "code",
   "execution_count": 7,
   "metadata": {},
   "outputs": [
    {
     "data": {
      "text/plain": [
       "1    700\n",
       "0    300\n",
       "Name: DEFAULT, dtype: int64"
      ]
     },
     "execution_count": 7,
     "metadata": {},
     "output_type": "execute_result"
    }
   ],
   "source": [
    "loan_df.DEFAULT.value_counts()"
   ]
  },
  {
   "cell_type": "markdown",
   "metadata": {},
   "source": [
    "## Pre-processing"
   ]
  },
  {
   "cell_type": "code",
   "execution_count": 8,
   "metadata": {},
   "outputs": [
    {
     "name": "stdout",
     "output_type": "stream",
     "text": [
      "<class 'pandas.core.frame.DataFrame'>\n",
      "RangeIndex: 1000 entries, 0 to 999\n",
      "Data columns (total 29 columns):\n",
      " #   Column            Non-Null Count  Dtype  \n",
      "---  ------            --------------  -----  \n",
      " 0   OBS.              1000 non-null   int64  \n",
      " 1   CHK_ACCT          1000 non-null   int64  \n",
      " 2   DURATION          997 non-null    float64\n",
      " 3   HISTORY           1000 non-null   int64  \n",
      " 4   CAR               997 non-null    object \n",
      " 5   FURNITURE         1000 non-null   int64  \n",
      " 6   RADIO.TV          1000 non-null   int64  \n",
      " 7   EDUCATION         1000 non-null   int64  \n",
      " 8   RETRAINING        1000 non-null   int64  \n",
      " 9   AMOUNT            996 non-null    float64\n",
      " 10  SAV_ACCT          1000 non-null   int64  \n",
      " 11  EMPLOYMENT        1000 non-null   int64  \n",
      " 12  INSTALL_RATE      1000 non-null   int64  \n",
      " 13  MaritalStatus     996 non-null    object \n",
      " 14  CO.APPLICANT      1000 non-null   int64  \n",
      " 15  GUARANTOR         1000 non-null   int64  \n",
      " 16  PRESENT_RESIDENT  1000 non-null   int64  \n",
      " 17  REAL_ESTATE       1000 non-null   int64  \n",
      " 18  PROP_UNKN_NONE    1000 non-null   int64  \n",
      " 19  AGE               998 non-null    float64\n",
      " 20  OTHER_INSTALL     1000 non-null   int64  \n",
      " 21  RENT              1000 non-null   int64  \n",
      " 22  OWN_RES           1000 non-null   int64  \n",
      " 23  NUM_CREDITS       1000 non-null   int64  \n",
      " 24  JOB               1000 non-null   int64  \n",
      " 25  NUM_DEPENDENTS    1000 non-null   int64  \n",
      " 26  TELEPHONE         1000 non-null   int64  \n",
      " 27  FOREIGN           1000 non-null   int64  \n",
      " 28  DEFAULT           1000 non-null   int64  \n",
      "dtypes: float64(3), int64(24), object(2)\n",
      "memory usage: 226.7+ KB\n"
     ]
    }
   ],
   "source": [
    "loan_df.info()"
   ]
  },
  {
   "cell_type": "markdown",
   "metadata": {},
   "source": [
    "#### Subset the Categorical variables for analysis"
   ]
  },
  {
   "cell_type": "code",
   "execution_count": 9,
   "metadata": {},
   "outputs": [],
   "source": [
    "obj_df = loan_df.select_dtypes(include=['object']).copy()"
   ]
  },
  {
   "cell_type": "code",
   "execution_count": 10,
   "metadata": {},
   "outputs": [
    {
     "data": {
      "text/plain": [
       "(1000, 2)"
      ]
     },
     "execution_count": 10,
     "metadata": {},
     "output_type": "execute_result"
    }
   ],
   "source": [
    "obj_df.shape"
   ]
  },
  {
   "cell_type": "code",
   "execution_count": 11,
   "metadata": {},
   "outputs": [
    {
     "name": "stdout",
     "output_type": "stream",
     "text": [
      "<class 'pandas.core.frame.DataFrame'>\n",
      "RangeIndex: 1000 entries, 0 to 999\n",
      "Data columns (total 2 columns):\n",
      " #   Column         Non-Null Count  Dtype \n",
      "---  ------         --------------  ----- \n",
      " 0   CAR            997 non-null    object\n",
      " 1   MaritalStatus  996 non-null    object\n",
      "dtypes: object(2)\n",
      "memory usage: 15.8+ KB\n"
     ]
    }
   ],
   "source": [
    "obj_df.info()"
   ]
  },
  {
   "cell_type": "code",
   "execution_count": 12,
   "metadata": {},
   "outputs": [
    {
     "data": {
      "text/html": [
       "<div>\n",
       "<style scoped>\n",
       "    .dataframe tbody tr th:only-of-type {\n",
       "        vertical-align: middle;\n",
       "    }\n",
       "\n",
       "    .dataframe tbody tr th {\n",
       "        vertical-align: top;\n",
       "    }\n",
       "\n",
       "    .dataframe thead th {\n",
       "        text-align: right;\n",
       "    }\n",
       "</style>\n",
       "<table border=\"1\" class=\"dataframe\">\n",
       "  <thead>\n",
       "    <tr style=\"text-align: right;\">\n",
       "      <th></th>\n",
       "      <th>CAR</th>\n",
       "      <th>MaritalStatus</th>\n",
       "    </tr>\n",
       "  </thead>\n",
       "  <tbody>\n",
       "    <tr>\n",
       "      <th>0</th>\n",
       "      <td>UsedCar</td>\n",
       "      <td>Widower</td>\n",
       "    </tr>\n",
       "    <tr>\n",
       "      <th>1</th>\n",
       "      <td>UsedCar</td>\n",
       "      <td>Single</td>\n",
       "    </tr>\n",
       "    <tr>\n",
       "      <th>2</th>\n",
       "      <td>UsedCar</td>\n",
       "      <td>Single</td>\n",
       "    </tr>\n",
       "    <tr>\n",
       "      <th>3</th>\n",
       "      <td>UsedCar</td>\n",
       "      <td>Single</td>\n",
       "    </tr>\n",
       "    <tr>\n",
       "      <th>4</th>\n",
       "      <td>NewCar</td>\n",
       "      <td>Single</td>\n",
       "    </tr>\n",
       "  </tbody>\n",
       "</table>\n",
       "</div>"
      ],
      "text/plain": [
       "       CAR MaritalStatus\n",
       "0  UsedCar       Widower\n",
       "1  UsedCar        Single\n",
       "2  UsedCar        Single\n",
       "3  UsedCar        Single\n",
       "4   NewCar        Single"
      ]
     },
     "execution_count": 12,
     "metadata": {},
     "output_type": "execute_result"
    }
   ],
   "source": [
    "obj_df.head()"
   ]
  },
  {
   "cell_type": "markdown",
   "metadata": {},
   "source": [
    "### Missing values"
   ]
  },
  {
   "cell_type": "markdown",
   "metadata": {},
   "source": [
    "missing value can be replace with \n",
    "- Replace by mode (categorical data)\n",
    "- Replace by median\n",
    "- Replace by mean\n",
    "- Replace by zero\n",
    "- remove row (if less number) or remove column (if high missing value)\n",
    "- Replace with gap forward"
   ]
  },
  {
   "cell_type": "markdown",
   "metadata": {},
   "source": [
    "### Missing Values detection"
   ]
  },
  {
   "cell_type": "code",
   "execution_count": 13,
   "metadata": {},
   "outputs": [
    {
     "data": {
      "text/html": [
       "<div>\n",
       "<style scoped>\n",
       "    .dataframe tbody tr th:only-of-type {\n",
       "        vertical-align: middle;\n",
       "    }\n",
       "\n",
       "    .dataframe tbody tr th {\n",
       "        vertical-align: top;\n",
       "    }\n",
       "\n",
       "    .dataframe thead th {\n",
       "        text-align: right;\n",
       "    }\n",
       "</style>\n",
       "<table border=\"1\" class=\"dataframe\">\n",
       "  <thead>\n",
       "    <tr style=\"text-align: right;\">\n",
       "      <th></th>\n",
       "      <th>CAR</th>\n",
       "      <th>MaritalStatus</th>\n",
       "    </tr>\n",
       "  </thead>\n",
       "  <tbody>\n",
       "    <tr>\n",
       "      <th>0</th>\n",
       "      <td>UsedCar</td>\n",
       "      <td>Widower</td>\n",
       "    </tr>\n",
       "    <tr>\n",
       "      <th>1</th>\n",
       "      <td>UsedCar</td>\n",
       "      <td>Single</td>\n",
       "    </tr>\n",
       "    <tr>\n",
       "      <th>2</th>\n",
       "      <td>UsedCar</td>\n",
       "      <td>Single</td>\n",
       "    </tr>\n",
       "    <tr>\n",
       "      <th>3</th>\n",
       "      <td>UsedCar</td>\n",
       "      <td>Single</td>\n",
       "    </tr>\n",
       "    <tr>\n",
       "      <th>4</th>\n",
       "      <td>NewCar</td>\n",
       "      <td>Single</td>\n",
       "    </tr>\n",
       "  </tbody>\n",
       "</table>\n",
       "</div>"
      ],
      "text/plain": [
       "       CAR MaritalStatus\n",
       "0  UsedCar       Widower\n",
       "1  UsedCar        Single\n",
       "2  UsedCar        Single\n",
       "3  UsedCar        Single\n",
       "4   NewCar        Single"
      ]
     },
     "execution_count": 13,
     "metadata": {},
     "output_type": "execute_result"
    }
   ],
   "source": [
    "# Select categorical datatypes\n",
    "cat_df = loan_df.select_dtypes(include=['object']).copy()\n",
    "cat_df.head(5)"
   ]
  },
  {
   "cell_type": "markdown",
   "metadata": {},
   "source": [
    "#### Check for missing values in these (categorical) variables"
   ]
  },
  {
   "cell_type": "code",
   "execution_count": 14,
   "metadata": {},
   "outputs": [
    {
     "data": {
      "text/html": [
       "<div>\n",
       "<style scoped>\n",
       "    .dataframe tbody tr th:only-of-type {\n",
       "        vertical-align: middle;\n",
       "    }\n",
       "\n",
       "    .dataframe tbody tr th {\n",
       "        vertical-align: top;\n",
       "    }\n",
       "\n",
       "    .dataframe thead th {\n",
       "        text-align: right;\n",
       "    }\n",
       "</style>\n",
       "<table border=\"1\" class=\"dataframe\">\n",
       "  <thead>\n",
       "    <tr style=\"text-align: right;\">\n",
       "      <th></th>\n",
       "      <th>CAR</th>\n",
       "      <th>MaritalStatus</th>\n",
       "    </tr>\n",
       "  </thead>\n",
       "  <tbody>\n",
       "    <tr>\n",
       "      <th>8</th>\n",
       "      <td>NaN</td>\n",
       "      <td>divorcee</td>\n",
       "    </tr>\n",
       "    <tr>\n",
       "      <th>100</th>\n",
       "      <td>NaN</td>\n",
       "      <td>Single</td>\n",
       "    </tr>\n",
       "    <tr>\n",
       "      <th>227</th>\n",
       "      <td>UsedCar</td>\n",
       "      <td>NaN</td>\n",
       "    </tr>\n",
       "    <tr>\n",
       "      <th>236</th>\n",
       "      <td>NaN</td>\n",
       "      <td>NaN</td>\n",
       "    </tr>\n",
       "    <tr>\n",
       "      <th>257</th>\n",
       "      <td>UsedCar</td>\n",
       "      <td>NaN</td>\n",
       "    </tr>\n",
       "    <tr>\n",
       "      <th>296</th>\n",
       "      <td>UsedCar</td>\n",
       "      <td>NaN</td>\n",
       "    </tr>\n",
       "  </tbody>\n",
       "</table>\n",
       "</div>"
      ],
      "text/plain": [
       "         CAR MaritalStatus\n",
       "8        NaN      divorcee\n",
       "100      NaN        Single\n",
       "227  UsedCar           NaN\n",
       "236      NaN           NaN\n",
       "257  UsedCar           NaN\n",
       "296  UsedCar           NaN"
      ]
     },
     "execution_count": 14,
     "metadata": {},
     "output_type": "execute_result"
    }
   ],
   "source": [
    "obj_df[obj_df.isnull().any(axis=1)]"
   ]
  },
  {
   "cell_type": "markdown",
   "metadata": {},
   "source": [
    "### Check for missing values in these df"
   ]
  },
  {
   "cell_type": "code",
   "execution_count": 15,
   "metadata": {},
   "outputs": [
    {
     "data": {
      "text/plain": [
       "OBS.                0\n",
       "CHK_ACCT            0\n",
       "DURATION            3\n",
       "HISTORY             0\n",
       "CAR                 3\n",
       "FURNITURE           0\n",
       "RADIO.TV            0\n",
       "EDUCATION           0\n",
       "RETRAINING          0\n",
       "AMOUNT              4\n",
       "SAV_ACCT            0\n",
       "EMPLOYMENT          0\n",
       "INSTALL_RATE        0\n",
       "MaritalStatus       4\n",
       "CO.APPLICANT        0\n",
       "GUARANTOR           0\n",
       "PRESENT_RESIDENT    0\n",
       "REAL_ESTATE         0\n",
       "PROP_UNKN_NONE      0\n",
       "AGE                 2\n",
       "OTHER_INSTALL       0\n",
       "RENT                0\n",
       "OWN_RES             0\n",
       "NUM_CREDITS         0\n",
       "JOB                 0\n",
       "NUM_DEPENDENTS      0\n",
       "TELEPHONE           0\n",
       "FOREIGN             0\n",
       "DEFAULT             0\n",
       "dtype: int64"
      ]
     },
     "execution_count": 15,
     "metadata": {},
     "output_type": "execute_result"
    }
   ],
   "source": [
    "loan_df.isnull().sum()"
   ]
  },
  {
   "cell_type": "code",
   "execution_count": 16,
   "metadata": {},
   "outputs": [
    {
     "name": "stdout",
     "output_type": "stream",
     "text": [
      "CAR\n",
      "NewCar     232\n",
      "UsedCar    765\n",
      "dtype: int64\n"
     ]
    }
   ],
   "source": [
    "print(loan_df.groupby(['CAR']).size())"
   ]
  },
  {
   "cell_type": "code",
   "execution_count": 17,
   "metadata": {},
   "outputs": [
    {
     "data": {
      "text/plain": [
       "UsedCar    765\n",
       "NewCar     232\n",
       "Name: CAR, dtype: int64"
      ]
     },
     "execution_count": 17,
     "metadata": {},
     "output_type": "execute_result"
    }
   ],
   "source": [
    "obj_df[\"CAR\"].value_counts()"
   ]
  },
  {
   "cell_type": "markdown",
   "metadata": {},
   "source": [
    "- there missing three values for car, assume that missing car means no car"
   ]
  },
  {
   "cell_type": "code",
   "execution_count": 18,
   "metadata": {},
   "outputs": [],
   "source": [
    "obj_df = obj_df.fillna({\"CAR\": \"No Car\"})"
   ]
  },
  {
   "cell_type": "code",
   "execution_count": 19,
   "metadata": {},
   "outputs": [
    {
     "data": {
      "text/plain": [
       "CAR              0\n",
       "MaritalStatus    4\n",
       "dtype: int64"
      ]
     },
     "execution_count": 19,
     "metadata": {},
     "output_type": "execute_result"
    }
   ],
   "source": [
    "obj_df.isnull().sum()"
   ]
  },
  {
   "cell_type": "code",
   "execution_count": 20,
   "metadata": {},
   "outputs": [
    {
     "name": "stdout",
     "output_type": "stream",
     "text": [
      "MaritalStatus\n",
      "Married      30\n",
      "Single      506\n",
      "Widower     343\n",
      "divorcee    117\n",
      "dtype: int64\n"
     ]
    }
   ],
   "source": [
    "print(loan_df.groupby(['MaritalStatus']).size())"
   ]
  },
  {
   "cell_type": "markdown",
   "metadata": {},
   "source": [
    "- there missing four values for MaritalStatus, assume that single"
   ]
  },
  {
   "cell_type": "code",
   "execution_count": 21,
   "metadata": {},
   "outputs": [],
   "source": [
    "obj_df = obj_df.fillna({\"MaritalStatus\": \"Single\"})"
   ]
  },
  {
   "cell_type": "code",
   "execution_count": 22,
   "metadata": {},
   "outputs": [
    {
     "data": {
      "text/plain": [
       "CAR              0\n",
       "MaritalStatus    0\n",
       "dtype: int64"
      ]
     },
     "execution_count": 22,
     "metadata": {},
     "output_type": "execute_result"
    }
   ],
   "source": [
    "obj_df.isnull().sum()"
   ]
  },
  {
   "cell_type": "code",
   "execution_count": 23,
   "metadata": {},
   "outputs": [
    {
     "data": {
      "text/plain": [
       "OBS.                0\n",
       "CHK_ACCT            0\n",
       "DURATION            3\n",
       "HISTORY             0\n",
       "CAR                 3\n",
       "FURNITURE           0\n",
       "RADIO.TV            0\n",
       "EDUCATION           0\n",
       "RETRAINING          0\n",
       "AMOUNT              4\n",
       "SAV_ACCT            0\n",
       "EMPLOYMENT          0\n",
       "INSTALL_RATE        0\n",
       "MaritalStatus       4\n",
       "CO.APPLICANT        0\n",
       "GUARANTOR           0\n",
       "PRESENT_RESIDENT    0\n",
       "REAL_ESTATE         0\n",
       "PROP_UNKN_NONE      0\n",
       "AGE                 2\n",
       "OTHER_INSTALL       0\n",
       "RENT                0\n",
       "OWN_RES             0\n",
       "NUM_CREDITS         0\n",
       "JOB                 0\n",
       "NUM_DEPENDENTS      0\n",
       "TELEPHONE           0\n",
       "FOREIGN             0\n",
       "DEFAULT             0\n",
       "dtype: int64"
      ]
     },
     "execution_count": 23,
     "metadata": {},
     "output_type": "execute_result"
    }
   ],
   "source": [
    "loan_df.isnull().sum()"
   ]
  },
  {
   "cell_type": "markdown",
   "metadata": {},
   "source": [
    "#### subset numerical variables"
   ]
  },
  {
   "cell_type": "code",
   "execution_count": 24,
   "metadata": {},
   "outputs": [],
   "source": [
    "df_num = loan_df.select_dtypes(include=['float64'])"
   ]
  },
  {
   "cell_type": "code",
   "execution_count": 25,
   "metadata": {},
   "outputs": [
    {
     "data": {
      "text/plain": [
       "DURATION    3\n",
       "AMOUNT      4\n",
       "AGE         2\n",
       "dtype: int64"
      ]
     },
     "execution_count": 25,
     "metadata": {},
     "output_type": "execute_result"
    }
   ],
   "source": [
    "df_num.isnull().sum()"
   ]
  },
  {
   "cell_type": "markdown",
   "metadata": {},
   "source": [
    "#### Remove Rows With Missing Values"
   ]
  },
  {
   "cell_type": "code",
   "execution_count": 26,
   "metadata": {},
   "outputs": [
    {
     "data": {
      "text/plain": [
       "(1000, 3)"
      ]
     },
     "execution_count": 26,
     "metadata": {},
     "output_type": "execute_result"
    }
   ],
   "source": [
    "df_num.shape"
   ]
  },
  {
   "cell_type": "code",
   "execution_count": 27,
   "metadata": {},
   "outputs": [],
   "source": [
    "df_imputed = df_num.dropna()"
   ]
  },
  {
   "cell_type": "code",
   "execution_count": 28,
   "metadata": {},
   "outputs": [
    {
     "data": {
      "text/plain": [
       "(991, 3)"
      ]
     },
     "execution_count": 28,
     "metadata": {},
     "output_type": "execute_result"
    }
   ],
   "source": [
    "df_imputed.shape"
   ]
  },
  {
   "cell_type": "markdown",
   "metadata": {},
   "source": [
    "### Impute missing values with mean values"
   ]
  },
  {
   "cell_type": "code",
   "execution_count": 29,
   "metadata": {},
   "outputs": [],
   "source": [
    "#impute with zero\n",
    "df_num_zero = df_num.fillna(0)"
   ]
  },
  {
   "cell_type": "code",
   "execution_count": 30,
   "metadata": {},
   "outputs": [
    {
     "name": "stdout",
     "output_type": "stream",
     "text": [
      "DURATION    0\n",
      "AMOUNT      0\n",
      "AGE         0\n",
      "dtype: int64\n"
     ]
    }
   ],
   "source": [
    "# Check for number of missing value\n",
    "print(df_num_zero.isnull().sum())"
   ]
  },
  {
   "cell_type": "markdown",
   "metadata": {},
   "source": [
    "### Impute missing values with mean values"
   ]
  },
  {
   "cell_type": "code",
   "execution_count": 31,
   "metadata": {},
   "outputs": [],
   "source": [
    "#impute with mean\n",
    "df_num_mean = df_num.fillna(df_num.mean())"
   ]
  },
  {
   "cell_type": "code",
   "execution_count": 32,
   "metadata": {},
   "outputs": [
    {
     "name": "stdout",
     "output_type": "stream",
     "text": [
      "DURATION    0\n",
      "AMOUNT      0\n",
      "AGE         0\n",
      "dtype: int64\n"
     ]
    }
   ],
   "source": [
    "# Check for number of missing value\n",
    "print(df_num_mean.isnull().sum())"
   ]
  },
  {
   "cell_type": "markdown",
   "metadata": {},
   "source": [
    "#### Impute missing values with median values"
   ]
  },
  {
   "cell_type": "code",
   "execution_count": 33,
   "metadata": {},
   "outputs": [],
   "source": [
    "df_num_median = df_num.fillna(df_num.median())"
   ]
  },
  {
   "cell_type": "code",
   "execution_count": 34,
   "metadata": {},
   "outputs": [
    {
     "name": "stdout",
     "output_type": "stream",
     "text": [
      "DURATION    0\n",
      "AMOUNT      0\n",
      "AGE         0\n",
      "dtype: int64\n"
     ]
    }
   ],
   "source": [
    "# Check for number of missing value\n",
    "print(df_num_median.isnull().sum())"
   ]
  },
  {
   "cell_type": "markdown",
   "metadata": {},
   "source": [
    "### Working with categorical varibles"
   ]
  },
  {
   "cell_type": "code",
   "execution_count": 37,
   "metadata": {},
   "outputs": [],
   "source": [
    "df = pd.read_csv('./datasets/Loan_data.csv')"
   ]
  },
  {
   "cell_type": "code",
   "execution_count": 38,
   "metadata": {},
   "outputs": [
    {
     "name": "stdout",
     "output_type": "stream",
     "text": [
      "<class 'pandas.core.frame.DataFrame'>\n",
      "RangeIndex: 1000 entries, 0 to 999\n",
      "Data columns (total 29 columns):\n",
      " #   Column            Non-Null Count  Dtype  \n",
      "---  ------            --------------  -----  \n",
      " 0   OBS.              1000 non-null   int64  \n",
      " 1   CHK_ACCT          1000 non-null   int64  \n",
      " 2   DURATION          997 non-null    float64\n",
      " 3   HISTORY           1000 non-null   int64  \n",
      " 4   CAR               997 non-null    object \n",
      " 5   FURNITURE         1000 non-null   int64  \n",
      " 6   RADIO.TV          1000 non-null   int64  \n",
      " 7   EDUCATION         1000 non-null   int64  \n",
      " 8   RETRAINING        1000 non-null   int64  \n",
      " 9   AMOUNT            996 non-null    float64\n",
      " 10  SAV_ACCT          1000 non-null   int64  \n",
      " 11  EMPLOYMENT        1000 non-null   int64  \n",
      " 12  INSTALL_RATE      1000 non-null   int64  \n",
      " 13  MaritalStatus     996 non-null    object \n",
      " 14  CO.APPLICANT      1000 non-null   int64  \n",
      " 15  GUARANTOR         1000 non-null   int64  \n",
      " 16  PRESENT_RESIDENT  1000 non-null   int64  \n",
      " 17  REAL_ESTATE       1000 non-null   int64  \n",
      " 18  PROP_UNKN_NONE    1000 non-null   int64  \n",
      " 19  AGE               998 non-null    float64\n",
      " 20  OTHER_INSTALL     1000 non-null   int64  \n",
      " 21  RENT              1000 non-null   int64  \n",
      " 22  OWN_RES           1000 non-null   int64  \n",
      " 23  NUM_CREDITS       1000 non-null   int64  \n",
      " 24  JOB               1000 non-null   int64  \n",
      " 25  NUM_DEPENDENTS    1000 non-null   int64  \n",
      " 26  TELEPHONE         1000 non-null   int64  \n",
      " 27  FOREIGN           1000 non-null   int64  \n",
      " 28  DEFAULT           1000 non-null   int64  \n",
      "dtypes: float64(3), int64(24), object(2)\n",
      "memory usage: 226.7+ KB\n"
     ]
    }
   ],
   "source": [
    "df.info()"
   ]
  },
  {
   "cell_type": "code",
   "execution_count": 39,
   "metadata": {},
   "outputs": [],
   "source": [
    "# Convert variable(s) to category\n",
    "df[[\"CAR\", \"MaritalStatus\"]] = df[[\"CAR\", \"MaritalStatus\"]].astype('category')"
   ]
  },
  {
   "cell_type": "code",
   "execution_count": 40,
   "metadata": {},
   "outputs": [
    {
     "name": "stdout",
     "output_type": "stream",
     "text": [
      "<class 'pandas.core.frame.DataFrame'>\n",
      "RangeIndex: 1000 entries, 0 to 999\n",
      "Data columns (total 29 columns):\n",
      " #   Column            Non-Null Count  Dtype   \n",
      "---  ------            --------------  -----   \n",
      " 0   OBS.              1000 non-null   int64   \n",
      " 1   CHK_ACCT          1000 non-null   int64   \n",
      " 2   DURATION          997 non-null    float64 \n",
      " 3   HISTORY           1000 non-null   int64   \n",
      " 4   CAR               997 non-null    category\n",
      " 5   FURNITURE         1000 non-null   int64   \n",
      " 6   RADIO.TV          1000 non-null   int64   \n",
      " 7   EDUCATION         1000 non-null   int64   \n",
      " 8   RETRAINING        1000 non-null   int64   \n",
      " 9   AMOUNT            996 non-null    float64 \n",
      " 10  SAV_ACCT          1000 non-null   int64   \n",
      " 11  EMPLOYMENT        1000 non-null   int64   \n",
      " 12  INSTALL_RATE      1000 non-null   int64   \n",
      " 13  MaritalStatus     996 non-null    category\n",
      " 14  CO.APPLICANT      1000 non-null   int64   \n",
      " 15  GUARANTOR         1000 non-null   int64   \n",
      " 16  PRESENT_RESIDENT  1000 non-null   int64   \n",
      " 17  REAL_ESTATE       1000 non-null   int64   \n",
      " 18  PROP_UNKN_NONE    1000 non-null   int64   \n",
      " 19  AGE               998 non-null    float64 \n",
      " 20  OTHER_INSTALL     1000 non-null   int64   \n",
      " 21  RENT              1000 non-null   int64   \n",
      " 22  OWN_RES           1000 non-null   int64   \n",
      " 23  NUM_CREDITS       1000 non-null   int64   \n",
      " 24  JOB               1000 non-null   int64   \n",
      " 25  NUM_DEPENDENTS    1000 non-null   int64   \n",
      " 26  TELEPHONE         1000 non-null   int64   \n",
      " 27  FOREIGN           1000 non-null   int64   \n",
      " 28  DEFAULT           1000 non-null   int64   \n",
      "dtypes: category(2), float64(3), int64(24)\n",
      "memory usage: 213.3 KB\n"
     ]
    }
   ],
   "source": [
    "df.info()"
   ]
  },
  {
   "cell_type": "markdown",
   "metadata": {},
   "source": [
    "### Label Encoding"
   ]
  },
  {
   "cell_type": "markdown",
   "metadata": {},
   "source": [
    "#### Label Encoding : pandas"
   ]
  },
  {
   "cell_type": "code",
   "execution_count": 41,
   "metadata": {},
   "outputs": [],
   "source": [
    "df[\"CAR_cat\"] = df[\"CAR\"].cat.codes"
   ]
  },
  {
   "cell_type": "code",
   "execution_count": 42,
   "metadata": {},
   "outputs": [
    {
     "name": "stdout",
     "output_type": "stream",
     "text": [
      "       CAR  CAR_cat\n",
      "0  UsedCar        1\n",
      "1  UsedCar        1\n",
      "2  UsedCar        1\n",
      "3  UsedCar        1\n",
      "4   NewCar        0\n"
     ]
    }
   ],
   "source": [
    "print(df[[\"CAR\",\"CAR_cat\"]].head())"
   ]
  },
  {
   "cell_type": "code",
   "execution_count": 43,
   "metadata": {},
   "outputs": [],
   "source": [
    "df[\"MaritalStatus_cat\"] = df[\"MaritalStatus\"].cat.codes"
   ]
  },
  {
   "cell_type": "code",
   "execution_count": 44,
   "metadata": {},
   "outputs": [
    {
     "name": "stdout",
     "output_type": "stream",
     "text": [
      "    MaritalStatus  MaritalStatus_cat\n",
      "980        Single                  1\n",
      "981       Widower                  2\n",
      "982        Single                  1\n",
      "983        Single                  1\n",
      "984       Widower                  2\n",
      "985      divorcee                  3\n",
      "986       Widower                  2\n",
      "987        Single                  1\n",
      "988        Single                  1\n",
      "989        Single                  1\n",
      "990        Single                  1\n",
      "991       Widower                  2\n",
      "992        Single                  1\n",
      "993        Single                  1\n",
      "994       Widower                  2\n",
      "995      divorcee                  3\n",
      "996        Single                  1\n",
      "997        Single                  1\n",
      "998        Single                  1\n",
      "999       Widower                  2\n"
     ]
    }
   ],
   "source": [
    "print(df[[\"MaritalStatus\",\"MaritalStatus_cat\"]].tail(20))"
   ]
  },
  {
   "cell_type": "markdown",
   "metadata": {},
   "source": [
    "#### Label Encoding : sklearn"
   ]
  },
  {
   "cell_type": "code",
   "execution_count": 45,
   "metadata": {},
   "outputs": [],
   "source": [
    "from sklearn.preprocessing import LabelEncoder\n",
    "\n",
    "lbl_encod = LabelEncoder()\n",
    "obj_df[\"CAR_Lcode\"] = lbl_encod.fit_transform(obj_df[\"CAR\"])\n"
   ]
  },
  {
   "cell_type": "code",
   "execution_count": 46,
   "metadata": {},
   "outputs": [
    {
     "data": {
      "text/html": [
       "<div>\n",
       "<style scoped>\n",
       "    .dataframe tbody tr th:only-of-type {\n",
       "        vertical-align: middle;\n",
       "    }\n",
       "\n",
       "    .dataframe tbody tr th {\n",
       "        vertical-align: top;\n",
       "    }\n",
       "\n",
       "    .dataframe thead th {\n",
       "        text-align: right;\n",
       "    }\n",
       "</style>\n",
       "<table border=\"1\" class=\"dataframe\">\n",
       "  <thead>\n",
       "    <tr style=\"text-align: right;\">\n",
       "      <th></th>\n",
       "      <th>CAR</th>\n",
       "      <th>CAR_Lcode</th>\n",
       "    </tr>\n",
       "  </thead>\n",
       "  <tbody>\n",
       "    <tr>\n",
       "      <th>0</th>\n",
       "      <td>UsedCar</td>\n",
       "      <td>2</td>\n",
       "    </tr>\n",
       "    <tr>\n",
       "      <th>1</th>\n",
       "      <td>UsedCar</td>\n",
       "      <td>2</td>\n",
       "    </tr>\n",
       "    <tr>\n",
       "      <th>2</th>\n",
       "      <td>UsedCar</td>\n",
       "      <td>2</td>\n",
       "    </tr>\n",
       "    <tr>\n",
       "      <th>3</th>\n",
       "      <td>UsedCar</td>\n",
       "      <td>2</td>\n",
       "    </tr>\n",
       "    <tr>\n",
       "      <th>4</th>\n",
       "      <td>NewCar</td>\n",
       "      <td>0</td>\n",
       "    </tr>\n",
       "    <tr>\n",
       "      <th>5</th>\n",
       "      <td>UsedCar</td>\n",
       "      <td>2</td>\n",
       "    </tr>\n",
       "    <tr>\n",
       "      <th>6</th>\n",
       "      <td>UsedCar</td>\n",
       "      <td>2</td>\n",
       "    </tr>\n",
       "    <tr>\n",
       "      <th>7</th>\n",
       "      <td>UsedCar</td>\n",
       "      <td>2</td>\n",
       "    </tr>\n",
       "    <tr>\n",
       "      <th>8</th>\n",
       "      <td>No Car</td>\n",
       "      <td>1</td>\n",
       "    </tr>\n",
       "    <tr>\n",
       "      <th>9</th>\n",
       "      <td>NewCar</td>\n",
       "      <td>0</td>\n",
       "    </tr>\n",
       "    <tr>\n",
       "      <th>10</th>\n",
       "      <td>NewCar</td>\n",
       "      <td>0</td>\n",
       "    </tr>\n",
       "  </tbody>\n",
       "</table>\n",
       "</div>"
      ],
      "text/plain": [
       "        CAR  CAR_Lcode\n",
       "0   UsedCar          2\n",
       "1   UsedCar          2\n",
       "2   UsedCar          2\n",
       "3   UsedCar          2\n",
       "4    NewCar          0\n",
       "5   UsedCar          2\n",
       "6   UsedCar          2\n",
       "7   UsedCar          2\n",
       "8    No Car          1\n",
       "9    NewCar          0\n",
       "10   NewCar          0"
      ]
     },
     "execution_count": 46,
     "metadata": {},
     "output_type": "execute_result"
    }
   ],
   "source": [
    "obj_df[[\"CAR\", \"CAR_Lcode\"]].head(11)"
   ]
  },
  {
   "cell_type": "markdown",
   "metadata": {},
   "source": [
    "#### Onehot Encoding"
   ]
  },
  {
   "cell_type": "code",
   "execution_count": 47,
   "metadata": {},
   "outputs": [
    {
     "data": {
      "text/html": [
       "<div>\n",
       "<style scoped>\n",
       "    .dataframe tbody tr th:only-of-type {\n",
       "        vertical-align: middle;\n",
       "    }\n",
       "\n",
       "    .dataframe tbody tr th {\n",
       "        vertical-align: top;\n",
       "    }\n",
       "\n",
       "    .dataframe thead th {\n",
       "        text-align: right;\n",
       "    }\n",
       "</style>\n",
       "<table border=\"1\" class=\"dataframe\">\n",
       "  <thead>\n",
       "    <tr style=\"text-align: right;\">\n",
       "      <th></th>\n",
       "      <th>CAR_NewCar</th>\n",
       "      <th>CAR_UsedCar</th>\n",
       "      <th>MaritalStatus_Married</th>\n",
       "      <th>MaritalStatus_Single</th>\n",
       "      <th>MaritalStatus_Widower</th>\n",
       "      <th>MaritalStatus_divorcee</th>\n",
       "    </tr>\n",
       "  </thead>\n",
       "  <tbody>\n",
       "    <tr>\n",
       "      <th>0</th>\n",
       "      <td>0</td>\n",
       "      <td>1</td>\n",
       "      <td>0</td>\n",
       "      <td>0</td>\n",
       "      <td>1</td>\n",
       "      <td>0</td>\n",
       "    </tr>\n",
       "    <tr>\n",
       "      <th>1</th>\n",
       "      <td>0</td>\n",
       "      <td>1</td>\n",
       "      <td>0</td>\n",
       "      <td>1</td>\n",
       "      <td>0</td>\n",
       "      <td>0</td>\n",
       "    </tr>\n",
       "    <tr>\n",
       "      <th>2</th>\n",
       "      <td>0</td>\n",
       "      <td>1</td>\n",
       "      <td>0</td>\n",
       "      <td>1</td>\n",
       "      <td>0</td>\n",
       "      <td>0</td>\n",
       "    </tr>\n",
       "    <tr>\n",
       "      <th>3</th>\n",
       "      <td>0</td>\n",
       "      <td>1</td>\n",
       "      <td>0</td>\n",
       "      <td>1</td>\n",
       "      <td>0</td>\n",
       "      <td>0</td>\n",
       "    </tr>\n",
       "    <tr>\n",
       "      <th>4</th>\n",
       "      <td>1</td>\n",
       "      <td>0</td>\n",
       "      <td>0</td>\n",
       "      <td>1</td>\n",
       "      <td>0</td>\n",
       "      <td>0</td>\n",
       "    </tr>\n",
       "  </tbody>\n",
       "</table>\n",
       "</div>"
      ],
      "text/plain": [
       "   CAR_NewCar  CAR_UsedCar  MaritalStatus_Married  MaritalStatus_Single  \\\n",
       "0           0            1                      0                     0   \n",
       "1           0            1                      0                     1   \n",
       "2           0            1                      0                     1   \n",
       "3           0            1                      0                     1   \n",
       "4           1            0                      0                     1   \n",
       "\n",
       "   MaritalStatus_Widower  MaritalStatus_divorcee  \n",
       "0                      1                       0  \n",
       "1                      0                       0  \n",
       "2                      0                       0  \n",
       "3                      0                       0  \n",
       "4                      0                       0  "
      ]
     },
     "execution_count": 47,
     "metadata": {},
     "output_type": "execute_result"
    }
   ],
   "source": [
    "df_dummies = pd.get_dummies(df[['CAR', 'MaritalStatus']])\n",
    "df_dummies.head()"
   ]
  },
  {
   "cell_type": "code",
   "execution_count": 48,
   "metadata": {},
   "outputs": [
    {
     "data": {
      "text/plain": [
       "(1000, 6)"
      ]
     },
     "execution_count": 48,
     "metadata": {},
     "output_type": "execute_result"
    }
   ],
   "source": [
    "df_dummies.shape"
   ]
  },
  {
   "cell_type": "code",
   "execution_count": null,
   "metadata": {},
   "outputs": [],
   "source": []
  }
 ],
 "metadata": {
  "kernelspec": {
   "display_name": "Python 3",
   "language": "python",
   "name": "python3"
  },
  "language_info": {
   "codemirror_mode": {
    "name": "ipython",
    "version": 3
   },
   "file_extension": ".py",
   "mimetype": "text/x-python",
   "name": "python",
   "nbconvert_exporter": "python",
   "pygments_lexer": "ipython3",
   "version": "3.8.5"
  }
 },
 "nbformat": 4,
 "nbformat_minor": 5
}
